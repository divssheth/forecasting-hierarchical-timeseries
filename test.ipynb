{
  "cells": [
    {
      "cell_type": "code",
      "source": [
        "import azureml.core\r\n",
        "from azureml.core import Workspace, Datastore\r\n",
        "import pandas as pd\r\n",
        "\r\n",
        "# Set up your workspace\r\n",
        "ws = Workspace.from_config()\r\n",
        "ws.get_details()\r\n",
        "\r\n",
        "# Set up your datastores\r\n",
        "dstore = ws.get_default_datastore()\r\n",
        "\r\n",
        "output = {}\r\n",
        "output[\"SDK version\"] = azureml.core.VERSION\r\n",
        "output[\"Subscription ID\"] = ws.subscription_id\r\n",
        "output[\"Workspace\"] = ws.name\r\n",
        "output[\"Resource Group\"] = ws.resource_group\r\n",
        "output[\"Location\"] = ws.location\r\n",
        "output[\"Default datastore name\"] = dstore.name\r\n",
        "output[\"SDK Version\"] = azureml.core.VERSION\r\n",
        "pd.set_option(\"display.max_colwidth\", None)\r\n",
        "outputDf = pd.DataFrame(data=output, index=[\"\"])\r\n",
        "outputDf.T"
      ],
      "outputs": [],
      "execution_count": null,
      "metadata": {
        "gather": {
          "logged": 1671466814254
        }
      }
    },
    {
      "cell_type": "code",
      "source": [
        "from azureml.core import Experiment, Dataset\r\n",
        "\r\n",
        "experiment = Experiment(ws, \"AML-ADF-train\")\r\n",
        "\r\n",
        "print(\"Experiment name: \" + experiment.name)"
      ],
      "outputs": [],
      "execution_count": null,
      "metadata": {
        "jupyter": {
          "source_hidden": false,
          "outputs_hidden": false
        },
        "nteract": {
          "transient": {
            "deleting": false
          }
        },
        "gather": {
          "logged": 1671466814670
        }
      }
    },
    {
      "cell_type": "code",
      "source": [
        "datastore = ws.get_default_datastore()\r\n",
        "datastore"
      ],
      "outputs": [],
      "execution_count": null,
      "metadata": {
        "jupyter": {
          "source_hidden": false,
          "outputs_hidden": false
        },
        "nteract": {
          "transient": {
            "deleting": false
          }
        },
        "gather": {
          "logged": 1671466815030
        }
      }
    },
    {
      "cell_type": "code",
      "source": [
        "from azureml.data.dataset_factory import TabularDatasetFactory\r\n",
        "\r\n",
        "registered_inference = Dataset.Tabular.from_delimited_files(path =(datastore, \"hts-sample/hts-sample-test.csv\"), separator=\",\")"
      ],
      "outputs": [],
      "execution_count": null,
      "metadata": {
        "jupyter": {
          "source_hidden": false,
          "outputs_hidden": false
        },
        "nteract": {
          "transient": {
            "deleting": false
          }
        },
        "gather": {
          "logged": 1671466816541
        }
      }
    },
    {
      "cell_type": "code",
      "source": [
        "from azureml.pipeline.core import PipelineParameter\r\n",
        "train_run_id = PipelineParameter(name=\"train_run_id\", default_value=\"none\")"
      ],
      "outputs": [],
      "execution_count": null,
      "metadata": {
        "jupyter": {
          "source_hidden": false,
          "outputs_hidden": false
        },
        "nteract": {
          "transient": {
            "deleting": false
          }
        },
        "gather": {
          "logged": 1671466816901
        }
      }
    },
    {
      "cell_type": "code",
      "source": [
        "from azureml.core.compute import ComputeTarget, AmlCompute\r\n",
        "\r\n",
        "# Name your cluster\r\n",
        "compute_name = \"cpu-cluster\"\r\n",
        "\r\n",
        "\r\n",
        "if compute_name in ws.compute_targets:\r\n",
        "    compute_target = ws.compute_targets[compute_name]\r\n",
        "    if compute_target and type(compute_target) is AmlCompute:\r\n",
        "        print(\"Found compute target: \" + compute_name)\r\n",
        "else:\r\n",
        "    print(\"Creating a new compute target...\")\r\n",
        "    provisioning_config = AmlCompute.provisioning_configuration(\r\n",
        "        vm_size=\"STANDARD_D16S_V3\", max_nodes=20\r\n",
        "    )\r\n",
        "    # Create the compute target\r\n",
        "    compute_target = ComputeTarget.create(ws, compute_name, provisioning_config)\r\n",
        "\r\n",
        "    # Can poll for a minimum number of nodes and for a specific timeout.\r\n",
        "    # If no min node count is provided it will use the scale settings for the cluster\r\n",
        "    compute_target.wait_for_completion(\r\n",
        "        show_output=True, min_node_count=None, timeout_in_minutes=20\r\n",
        "    )\r\n",
        "\r\n",
        "    # For a more detailed view of current cluster status, use the 'status' property\r\n",
        "    print(compute_target.status.serialize())"
      ],
      "outputs": [],
      "execution_count": null,
      "metadata": {
        "jupyter": {
          "source_hidden": false,
          "outputs_hidden": false
        },
        "nteract": {
          "transient": {
            "deleting": false
          }
        },
        "gather": {
          "logged": 1671466817293
        }
      }
    },
    {
      "cell_type": "code",
      "source": [
        "from azureml.data import OutputFileDatasetConfig\r\n",
        "output = OutputFileDatasetConfig(name=\"processed_data\", destination=(datastore, \"hts-sample/divye-forecasting/\")).as_upload(overwrite=True)"
      ],
      "outputs": [],
      "execution_count": null,
      "metadata": {
        "jupyter": {
          "source_hidden": false,
          "outputs_hidden": false
        },
        "nteract": {
          "transient": {
            "deleting": false
          }
        },
        "gather": {
          "logged": 1671466817692
        }
      }
    },
    {
      "cell_type": "code",
      "source": [
        "from azureml.contrib.automl.pipeline.steps import AutoMLPipelineBuilder\r\n",
        "from azureml.train.automl.runtime._hts.hts_parameters import HTSInferenceParameters\r\n",
        "\r\n",
        "inference_parameters = HTSInferenceParameters(\r\n",
        "    hierarchy_forecast_level=\"store_id\",  # The setting is specific to this dataset and should be changed based on your dataset.\r\n",
        "    allocation_method=\"proportions_of_historical_average\",\r\n",
        ")\r\n",
        "\r\n",
        "steps = AutoMLPipelineBuilder.get_many_models_batch_inference_steps(\r\n",
        "    experiment=experiment,\r\n",
        "    inference_data=registered_inference,\r\n",
        "    compute_target=compute_target,\r\n",
        "    inference_pipeline_parameters=inference_parameters,\r\n",
        "    node_count=4,\r\n",
        "    process_count_per_node=8,\r\n",
        "    output_datastore=output,\r\n",
        ")"
      ],
      "outputs": [],
      "execution_count": null,
      "metadata": {
        "jupyter": {
          "source_hidden": false,
          "outputs_hidden": false
        },
        "nteract": {
          "transient": {
            "deleting": false
          }
        },
        "gather": {
          "logged": 1671466828212
        }
      }
    },
    {
      "cell_type": "code",
      "source": [
        "from azureml.pipeline.core import Pipeline\r\n",
        "\r\n",
        "inference_pipeline = Pipeline(ws, steps=steps)\r\n",
        "inference_pipeline.publish(\"AML-ADF-inference\")"
      ],
      "outputs": [],
      "execution_count": null,
      "metadata": {
        "jupyter": {
          "source_hidden": false,
          "outputs_hidden": false
        },
        "nteract": {
          "transient": {
            "deleting": false
          }
        },
        "gather": {
          "logged": 1671466834266
        }
      }
    }
  ],
  "metadata": {
    "kernelspec": {
      "name": "python38-azureml",
      "language": "python",
      "display_name": "Python 3.8 - AzureML"
    },
    "language_info": {
      "name": "python",
      "version": "3.8.5",
      "mimetype": "text/x-python",
      "codemirror_mode": {
        "name": "ipython",
        "version": 3
      },
      "pygments_lexer": "ipython3",
      "nbconvert_exporter": "python",
      "file_extension": ".py"
    },
    "kernel_info": {
      "name": "python38-azureml"
    },
    "microsoft": {
      "host": {
        "AzureML": {
          "notebookHasBeenCompleted": true
        }
      }
    },
    "nteract": {
      "version": "nteract-front-end@1.0.0"
    }
  },
  "nbformat": 4,
  "nbformat_minor": 2
}